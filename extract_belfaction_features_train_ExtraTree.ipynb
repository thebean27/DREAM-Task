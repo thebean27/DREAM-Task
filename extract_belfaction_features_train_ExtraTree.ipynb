{
 "cells": [
  {
   "cell_type": "code",
   "execution_count": null,
   "id": "81d6a862",
   "metadata": {},
   "outputs": [
    {
     "name": "stdout",
     "output_type": "stream",
     "text": [
      "saved: data/belfaction_mixture_2686.csv |  shape: (795, 2686)\n"
     ]
    }
   ],
   "source": [
    "import pandas as pd\n",
    "from pathlib import Path\n",
    "\n",
    "root = Path(\"./data/\")\n",
    "in_file = root / \"mixture_stats_chemprop_embeddings.csv\"\n",
    "out_file = root / \"belfaction_mixture_2686.csv\"\n",
    "\n",
    "mix = pd.read_csv(in_file, header=[0, 1], index_col=0)\n",
    "mix.columns = [f\"{stat}_{feat}\" for stat, feat in mix.columns]\n",
    "mix.index.name = \"mixture_id\"\n",
    "\n",
    "mix.to_csv(out_file)\n",
    "print(\"saved:\", out_file, \"|  shape:\", mix.shape)"
   ]
  },
  {
   "cell_type": "code",
   "execution_count": null,
   "id": "9b273ff6",
   "metadata": {},
   "outputs": [
    {
     "name": "stderr",
     "output_type": "stream",
     "text": [
      "100%|██████████| 500/500 [01:25<00:00,  5.85it/s]\n"
     ]
    },
    {
     "name": "stdout",
     "output_type": "stream",
     "text": [
      "pair-feature matrix: (500, 14221)\n"
     ]
    }
   ],
   "source": [
    "import numpy as np, pandas as pd\n",
    "from pathlib import Path\n",
    "from scipy import stats\n",
    "from tqdm import tqdm\n",
    "\n",
    "root = Path('./data/')\n",
    "pairs = (\n",
    "    pd.read_csv(root/'TrainingData_mixturedist.csv')\n",
    "      .dropna(subset=['Mixture 1', 'Mixture 2'])\n",
    ")\n",
    "mix2686 = (\n",
    "    pd.read_csv(root/'belfaction_mixture_2686.csv', index_col=0)\n",
    "      .rename_axis('mixture_id')\n",
    ")\n",
    "\n",
    "def key(dataset, mixture):\n",
    "    ds = str(dataset).strip()\n",
    "    mnum = int(float(mixture))\n",
    "\n",
    "    for fmt in [f'{mnum:03d}', f'{mnum:02d}', str(mnum)]:\n",
    "        candidate = f'{ds}/{fmt}'\n",
    "        if candidate in mix2686.index:\n",
    "            return candidate\n",
    "\n",
    "    raise KeyError(f\"Mixture {ds}/{mnum} not found in mix2686\")\n",
    "\n",
    "# Pre-extract the 158-dim molecule embeddings we’ll need for U-tests\n",
    "mix158 = mix2686.filter(like='mean_fp_').join(\n",
    "           mix2686.filter(like='mean_pc')\n",
    "         )\n",
    "\n",
    "records, targets = [], []\n",
    "\n",
    "for _, r in tqdm(pairs.iterrows(), total=len(pairs)):\n",
    "    if pd.isna(r['Mixture 1']) or pd.isna(r['Mixture 2']):\n",
    "        continue\n",
    "    ds, m1, m2, y = r['Dataset'], r['Mixture 1'], r['Mixture 2'], r['Experimental Values']\n",
    "\n",
    "    try:\n",
    "        v1 = mix2686.loc[key(ds, m1)].values\n",
    "        v2 = mix2686.loc[key(ds, m2)].values\n",
    "    except KeyError:\n",
    "        continue\n",
    "\n",
    "    # algebraic contrasts\n",
    "    f_pair = np.stack([\n",
    "        (v1 + v2) / 2, # mean\n",
    "        v1 * v2, # product\n",
    "        np.abs(v1 - v2), # absolute diff\n",
    "        np.minimum(v1, v2), # min\n",
    "        np.maximum(v1, v2) # max\n",
    "    ]).ravel()\n",
    "\n",
    "    # Mann-Whitney U for each of the 158 molecular dims\n",
    "    u_stats = np.fromiter(\n",
    "        (stats.mannwhitneyu(mix158.iloc[:, i].loc[key(ds, m1)],\n",
    "                            mix158.iloc[:, i].loc[key(ds, m2)],\n",
    "                            alternative='two-sided').statistic\n",
    "         for i in range(mix158.shape[1])),\n",
    "        dtype=float,\n",
    "        count=mix158.shape[1]\n",
    "    )\n",
    "\n",
    "    # Bushdid flag\n",
    "    bushdid = int(ds.lower().startswith('bushdid'))\n",
    "\n",
    "    records.append(np.concatenate([f_pair, u_stats, [bushdid]]))\n",
    "    targets.append(y)\n",
    "\n",
    "X = np.vstack(records)\n",
    "y = np.array(targets)\n",
    "\n",
    "print('pair-feature matrix:', X.shape)\n",
    "\n",
    "out  = Path(\"./output\"); out.mkdir(exist_ok=True)\n",
    "np.save(out / \"belfaction_pair_train_X.npy\", X)\n",
    "np.save(out / \"belfaction_pair_train_y.npy\", y)"
   ]
  },
  {
   "cell_type": "code",
   "execution_count": null,
   "id": "e4c2e6dd",
   "metadata": {},
   "outputs": [
    {
     "name": "stdout",
     "output_type": "stream",
     "text": [
      "CV Pearson 0.667 ± 0.104  |  RMSE 0.117\n"
     ]
    },
    {
     "data": {
      "text/plain": [
       "['belfaction_extratrees.joblib']"
      ]
     },
     "execution_count": 34,
     "metadata": {},
     "output_type": "execute_result"
    }
   ],
   "source": [
    "from sklearn.ensemble import ExtraTreesRegressor\n",
    "from sklearn.impute import SimpleImputer\n",
    "from sklearn.pipeline import make_pipeline\n",
    "from sklearn.model_selection import KFold\n",
    "from scipy.stats import pearsonr\n",
    "import numpy as np\n",
    "\n",
    "pipe = make_pipeline(\n",
    "    SimpleImputer(strategy='mean'),        # replaces every NaN by the column mean\n",
    "    ExtraTreesRegressor(\n",
    "        n_estimators=1000,\n",
    "        random_state=42,\n",
    "        n_jobs=-1\n",
    "    )\n",
    ")\n",
    "\n",
    "pear, rmse = [], []\n",
    "kf = KFold(n_splits=10, shuffle=True, random_state=42)\n",
    "\n",
    "for tr, vl in kf.split(X):\n",
    "    pipe.fit(X[tr], y[tr])\n",
    "    p = pipe.predict(X[vl])\n",
    "    pear.append(pearsonr(y[vl], p)[0])\n",
    "    rmse.append(np.sqrt(((y[vl] - p) ** 2).mean()))\n",
    "\n",
    "print(f'CV Pearson {np.mean(pear):.3f} ± {np.std(pear):.3f}  |  RMSE {np.mean(rmse):.3f}')\n",
    "\n",
    "# train on full data and save the fitted pipeline\n",
    "pipe.fit(X, y)\n",
    "import joblib\n",
    "joblib.dump(pipe, 'belfaction_extratrees.joblib')"
   ]
  }
 ],
 "metadata": {
  "kernelspec": {
   "display_name": "Python 3",
   "language": "python",
   "name": "python3"
  },
  "language_info": {
   "codemirror_mode": {
    "name": "ipython",
    "version": 3
   },
   "file_extension": ".py",
   "mimetype": "text/x-python",
   "name": "python",
   "nbconvert_exporter": "python",
   "pygments_lexer": "ipython3",
   "version": "3.11.3"
  }
 },
 "nbformat": 4,
 "nbformat_minor": 5
}
